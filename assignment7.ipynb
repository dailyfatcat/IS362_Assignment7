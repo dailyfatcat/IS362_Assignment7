{
 "cells": [
  {
   "cell_type": "markdown",
   "source": [
    "Assignment 7\n",
    "================================\n",
    "Assignment: Choose six recent popular movies. Ask at least five people that you know (friends, family, classmates,\n",
    "imaginary friends) to rate each of these movies that they have seen on a scale of 1 to 5. There should be\n",
    "at least one movie that not everyone has seen!"
   ],
   "metadata": {
    "collapsed": false,
    "pycharm": {
     "name": "#%% md\n"
    }
   }
  },
  {
   "cell_type": "code",
   "source": [
    "# import pandas and numpy\n",
    "import numpy as np\n",
    "import pandas as pd\n",
    "from pandas import DataFrame, Series\n"
   ],
   "metadata": {
    "collapsed": false,
    "pycharm": {
     "name": "#%%\n"
    }
   },
   "execution_count": 62,
   "outputs": []
  },
  {
   "cell_type": "markdown",
   "metadata": {
    "collapsed": true,
    "pycharm": {
     "name": "#%% md\n"
    }
   },
   "source": [
    "Pandas Dataframe for the movies ratings:"
   ]
  },
  {
   "cell_type": "code",
   "source": [
    "#Read information from file into pandas dataframe\n",
    "ratings = pd.read_csv('ratings.csv')\n",
    "ratings"
   ],
   "metadata": {
    "collapsed": false,
    "pycharm": {
     "name": "#%%\n"
    }
   },
   "execution_count": 63,
   "outputs": [
    {
     "data": {
      "text/plain": "        name  The Irishman  Black Panther  Little Women  Finding Nemo  \\\n0        Sam           NaN              4           NaN           2.0   \n1       Adel           NaN              3           4.0           5.0   \n2      Jakob           1.0              2           3.0           4.0   \n3  Siegfried           3.0              3           4.0           NaN   \n4       Hans           1.0              1           NaN           3.0   \n\n   Parasite  \n0       4.0  \n1       NaN  \n2       NaN  \n3       5.0  \n4       4.0  ",
      "text/html": "<div>\n<style scoped>\n    .dataframe tbody tr th:only-of-type {\n        vertical-align: middle;\n    }\n\n    .dataframe tbody tr th {\n        vertical-align: top;\n    }\n\n    .dataframe thead th {\n        text-align: right;\n    }\n</style>\n<table border=\"1\" class=\"dataframe\">\n  <thead>\n    <tr style=\"text-align: right;\">\n      <th></th>\n      <th>name</th>\n      <th>The Irishman</th>\n      <th>Black Panther</th>\n      <th>Little Women</th>\n      <th>Finding Nemo</th>\n      <th>Parasite</th>\n    </tr>\n  </thead>\n  <tbody>\n    <tr>\n      <th>0</th>\n      <td>Sam</td>\n      <td>NaN</td>\n      <td>4</td>\n      <td>NaN</td>\n      <td>2.0</td>\n      <td>4.0</td>\n    </tr>\n    <tr>\n      <th>1</th>\n      <td>Adel</td>\n      <td>NaN</td>\n      <td>3</td>\n      <td>4.0</td>\n      <td>5.0</td>\n      <td>NaN</td>\n    </tr>\n    <tr>\n      <th>2</th>\n      <td>Jakob</td>\n      <td>1.0</td>\n      <td>2</td>\n      <td>3.0</td>\n      <td>4.0</td>\n      <td>NaN</td>\n    </tr>\n    <tr>\n      <th>3</th>\n      <td>Siegfried</td>\n      <td>3.0</td>\n      <td>3</td>\n      <td>4.0</td>\n      <td>NaN</td>\n      <td>5.0</td>\n    </tr>\n    <tr>\n      <th>4</th>\n      <td>Hans</td>\n      <td>1.0</td>\n      <td>1</td>\n      <td>NaN</td>\n      <td>3.0</td>\n      <td>4.0</td>\n    </tr>\n  </tbody>\n</table>\n</div>"
     },
     "execution_count": 63,
     "metadata": {},
     "output_type": "execute_result"
    }
   ]
  },
  {
   "cell_type": "markdown",
   "source": [
    "Show the average ratings for each user"
   ],
   "metadata": {
    "collapsed": false,
    "pycharm": {
     "name": "#%% md\n"
    }
   }
  },
  {
   "cell_type": "code",
   "execution_count": 64,
   "outputs": [
    {
     "data": {
      "text/plain": "The Irishman     1.666667\nBlack Panther    2.600000\nLittle Women     3.666667\nFinding Nemo     3.500000\nParasite         4.333333\ndtype: float64"
     },
     "execution_count": 64,
     "metadata": {},
     "output_type": "execute_result"
    }
   ],
   "source": [
    "#Show the average ratings for each user and each movie\n",
    "ratings.mean()\n"
   ],
   "metadata": {
    "collapsed": false,
    "pycharm": {
     "name": "#%%\n"
    }
   }
  },
  {
   "cell_type": "markdown",
   "source": [
    "Show the average ratings for each movie"
   ],
   "metadata": {
    "collapsed": false,
    "pycharm": {
     "name": "#%% md\n"
    }
   }
  },
  {
   "cell_type": "code",
   "source": [
    "ratings.set_index('name', inplace=True)\n",
    "ratings.mean(axis=1)"
   ],
   "metadata": {
    "collapsed": false,
    "pycharm": {
     "name": "#%%\n"
    }
   },
   "execution_count": 65,
   "outputs": [
    {
     "data": {
      "text/plain": "name\nSam          3.333333\nAdel         4.000000\nJakob        2.500000\nSiegfried    3.750000\nHans         2.250000\ndtype: float64"
     },
     "execution_count": 65,
     "metadata": {},
     "output_type": "execute_result"
    }
   ]
  },
  {
   "cell_type": "markdown",
   "source": [
    "Create a new pandas dataframe, with normalized ratings for each user\n",
    "- File NAN values with 0\n",
    "- Apply to formula xnew = (x-xmin) / (xmax - xmin)\n"
   ],
   "metadata": {
    "collapsed": false,
    "pycharm": {
     "name": "#%% md\n"
    }
   }
  },
  {
   "cell_type": "code",
   "execution_count": 66,
   "outputs": [
    {
     "data": {
      "text/plain": "           The Irishman  Black Panther  Little Women  Finding Nemo  Parasite\nname                                                                        \nSam            0.000000       1.000000          0.00           0.4       0.8\nAdel           0.000000       0.666667          1.00           1.0       0.0\nJakob          0.333333       0.333333          0.75           0.8       0.0\nSiegfried      1.000000       0.666667          1.00           0.0       1.0\nHans           0.333333       0.000000          0.00           0.6       0.8",
      "text/html": "<div>\n<style scoped>\n    .dataframe tbody tr th:only-of-type {\n        vertical-align: middle;\n    }\n\n    .dataframe tbody tr th {\n        vertical-align: top;\n    }\n\n    .dataframe thead th {\n        text-align: right;\n    }\n</style>\n<table border=\"1\" class=\"dataframe\">\n  <thead>\n    <tr style=\"text-align: right;\">\n      <th></th>\n      <th>The Irishman</th>\n      <th>Black Panther</th>\n      <th>Little Women</th>\n      <th>Finding Nemo</th>\n      <th>Parasite</th>\n    </tr>\n    <tr>\n      <th>name</th>\n      <th></th>\n      <th></th>\n      <th></th>\n      <th></th>\n      <th></th>\n    </tr>\n  </thead>\n  <tbody>\n    <tr>\n      <th>Sam</th>\n      <td>0.000000</td>\n      <td>1.000000</td>\n      <td>0.00</td>\n      <td>0.4</td>\n      <td>0.8</td>\n    </tr>\n    <tr>\n      <th>Adel</th>\n      <td>0.000000</td>\n      <td>0.666667</td>\n      <td>1.00</td>\n      <td>1.0</td>\n      <td>0.0</td>\n    </tr>\n    <tr>\n      <th>Jakob</th>\n      <td>0.333333</td>\n      <td>0.333333</td>\n      <td>0.75</td>\n      <td>0.8</td>\n      <td>0.0</td>\n    </tr>\n    <tr>\n      <th>Siegfried</th>\n      <td>1.000000</td>\n      <td>0.666667</td>\n      <td>1.00</td>\n      <td>0.0</td>\n      <td>1.0</td>\n    </tr>\n    <tr>\n      <th>Hans</th>\n      <td>0.333333</td>\n      <td>0.000000</td>\n      <td>0.00</td>\n      <td>0.6</td>\n      <td>0.8</td>\n    </tr>\n  </tbody>\n</table>\n</div>"
     },
     "execution_count": 66,
     "metadata": {},
     "output_type": "execute_result"
    }
   ],
   "source": [
    "ratings.fillna(value=0, inplace=True)\n",
    "normal = (ratings - ratings.min()) / (ratings.max() - ratings.min())\n",
    "normal"
   ],
   "metadata": {
    "collapsed": false,
    "pycharm": {
     "name": "#%%\n"
    }
   }
  },
  {
   "cell_type": "markdown",
   "source": [
    "Show the average rating for each movie"
   ],
   "metadata": {
    "collapsed": false
   }
  },
  {
   "cell_type": "code",
   "execution_count": 67,
   "outputs": [
    {
     "data": {
      "text/plain": "The Irishman     0.333333\nBlack Panther    0.533333\nLittle Women     0.550000\nFinding Nemo     0.560000\nParasite         0.520000\ndtype: float64"
     },
     "execution_count": 67,
     "metadata": {},
     "output_type": "execute_result"
    }
   ],
   "source": [
    "normal.mean()\n"
   ],
   "metadata": {
    "collapsed": false,
    "pycharm": {
     "name": "#%%\n"
    }
   }
  },
  {
   "cell_type": "markdown",
   "source": [
    "Show the average rating for each user"
   ],
   "metadata": {
    "collapsed": false
   }
  },
  {
   "cell_type": "code",
   "execution_count": 68,
   "outputs": [
    {
     "data": {
      "text/plain": "name\nSam          0.440000\nAdel         0.533333\nJakob        0.443333\nSiegfried    0.733333\nHans         0.346667\ndtype: float64"
     },
     "execution_count": 68,
     "metadata": {},
     "output_type": "execute_result"
    }
   ],
   "source": [
    "normal.mean(axis=1)"
   ],
   "metadata": {
    "collapsed": false,
    "pycharm": {
     "name": "#%%\n"
    }
   }
  },
  {
   "cell_type": "markdown",
   "source": [
    "Part 4 :\n",
    "\n",
    "**Question:** Provide a text-based conclusion: explain what might be advantages and disadvantages of using\n",
    "normalized ratings instead of the actual ratings\n",
    "\n",
    "**Conclusion:** One advantage is that you can get more meaningful insight into the data because outliers are no longer skewing it.\n",
    "These outliers could be data that is incorrect, they could represent data that is meaningful.\n",
    "The disadvantage is that the data is reliant on good normalization, and the normalization is applying a biases to the data.\n",
    "You are applying the biases that those outliers do not matter to the data, and this will be reflected in the final product."
   ],
   "metadata": {
    "collapsed": false,
    "pycharm": {
     "name": "#%% md\n"
    }
   }
  }
 ],
 "metadata": {
  "kernelspec": {
   "name": "python3",
   "language": "python",
   "display_name": "Python 3"
  },
  "language_info": {
   "codemirror_mode": {
    "name": "ipython",
    "version": 2
   },
   "file_extension": ".py",
   "mimetype": "text/x-python",
   "name": "python",
   "nbconvert_exporter": "python",
   "pygments_lexer": "ipython2",
   "version": "2.7.6"
  }
 },
 "nbformat": 4,
 "nbformat_minor": 0
}